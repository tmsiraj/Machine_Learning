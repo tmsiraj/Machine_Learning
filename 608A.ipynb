{
 "cells": [
  {
   "cell_type": "markdown",
   "id": "96f7699f",
   "metadata": {},
   "source": [
    "### Q1. WAP to check whether a number entered by user is even or odd."
   ]
  },
  {
   "cell_type": "code",
   "execution_count": 5,
   "id": "889230e9",
   "metadata": {},
   "outputs": [
    {
     "name": "stdout",
     "output_type": "stream",
     "text": [
      "Enter the no: 25\n",
      "Odd\n"
     ]
    }
   ],
   "source": [
    "n=int(input(\"Enter the no: \"))\n",
    "if n%2==0:\n",
    "    print(\"It is even\")\n",
    "else:\n",
    "    print(\"Odd\")"
   ]
  },
  {
   "cell_type": "markdown",
   "id": "3d6778ba",
   "metadata": {},
   "source": [
    "### Q2. WAP to check whether a person is eligible for voting or not."
   ]
  },
  {
   "cell_type": "code",
   "execution_count": 8,
   "id": "affb1ba2",
   "metadata": {},
   "outputs": [
    {
     "name": "stdout",
     "output_type": "stream",
     "text": [
      "Age: 85\n",
      "Eligible\n"
     ]
    }
   ],
   "source": [
    "v=int(input(\"Age: \"))\n",
    "if v>=18:\n",
    "    print(\"Eligible\")\n",
    "else:\n",
    "    print(\"Not Eligible\")"
   ]
  },
  {
   "cell_type": "markdown",
   "id": "a8f9c05c",
   "metadata": {},
   "source": [
    "### Q3. WAP to check a number divisible by 7 or not."
   ]
  },
  {
   "cell_type": "code",
   "execution_count": 9,
   "id": "a595ce96",
   "metadata": {},
   "outputs": [
    {
     "name": "stdout",
     "output_type": "stream",
     "text": [
      "Enter the number: 58\n",
      "Not divisible\n"
     ]
    }
   ],
   "source": [
    "d=int(input(\"Enter the number: \"))\n",
    "if d%7==0:\n",
    "    print(\"It is divisible\")\n",
    "else:\n",
    "    print(\"Not divisible\")"
   ]
  },
  {
   "cell_type": "markdown",
   "id": "c0a3f80c",
   "metadata": {},
   "source": [
    "### Q4. WAP to display 'Hello' if a number entered by user is a multiple of 5 other wise print 'Bye'."
   ]
  },
  {
   "cell_type": "code",
   "execution_count": 11,
   "id": "eb28cfb0",
   "metadata": {},
   "outputs": [
    {
     "name": "stdout",
     "output_type": "stream",
     "text": [
      "Enter a number: 4\n",
      "Bye\n"
     ]
    }
   ],
   "source": [
    "h=int(input(\"Enter a number: \"))\n",
    "if h%5==0:\n",
    "    print(\"Hello\")\n",
    "else:\n",
    "    print(\"Bye\")"
   ]
  },
  {
   "cell_type": "markdown",
   "id": "d32007ae",
   "metadata": {},
   "source": [
    "### Q5. WAP to accept percentage from user and display the grade according to the following criteria.\n",
    "\n",
    "### Marks----Grade\n",
    "#### >90------------- A\n",
    "#### >80 & <=90----B\n",
    "#### >=60 & <=80---C\n",
    "#### Below 60--------D"
   ]
  },
  {
   "cell_type": "code",
   "execution_count": 28,
   "id": "8f9d1199",
   "metadata": {
    "scrolled": true
   },
   "outputs": [
    {
     "name": "stdout",
     "output_type": "stream",
     "text": [
      "Enter your Mark: 75\n",
      "C\n"
     ]
    }
   ],
   "source": [
    "m=int(input('Enter your Mark: '))\n",
    "if m>90:\n",
    "    print('A')\n",
    "elif m>80 and m<=90:\n",
    "    print('B')\n",
    "elif m>=60 and m<=80:\n",
    "    print('C')\n",
    "else:\n",
    "    print('D')"
   ]
  },
  {
   "cell_type": "markdown",
   "id": "49069fb9",
   "metadata": {},
   "source": [
    "### Q6. WAP to display the last digit of a number."
   ]
  },
  {
   "cell_type": "code",
   "execution_count": 30,
   "id": "ad0f5fcc",
   "metadata": {},
   "outputs": [
    {
     "name": "stdout",
     "output_type": "stream",
     "text": [
      "Enter No: 25\n",
      "5\n"
     ]
    }
   ],
   "source": [
    "x=int(input(\"Enter No: \"))\n",
    "a=x%10\n",
    "print (a)"
   ]
  },
  {
   "cell_type": "markdown",
   "id": "8595e148",
   "metadata": {},
   "source": [
    "### or"
   ]
  },
  {
   "cell_type": "code",
   "execution_count": 32,
   "id": "3f3d7268",
   "metadata": {},
   "outputs": [
    {
     "name": "stdout",
     "output_type": "stream",
     "text": [
      "Enter No: 5884\n",
      "4\n"
     ]
    }
   ],
   "source": [
    "x=input(\"Enter No: \")\n",
    "print(x[-1])"
   ]
  },
  {
   "cell_type": "markdown",
   "id": "1a7e2027",
   "metadata": {},
   "source": [
    "### Q7. WAP to check whether the last digit of a number is divisible by 3 or not."
   ]
  },
  {
   "cell_type": "code",
   "execution_count": 1,
   "id": "5c89e041",
   "metadata": {},
   "outputs": [
    {
     "name": "stdout",
     "output_type": "stream",
     "text": [
      "Enter the no: 255\n",
      "Not divisible\n"
     ]
    }
   ],
   "source": [
    "x=int(input(\"Enter the no: \"))\n",
    "a=x%10\n",
    "if a%3==0:\n",
    "    print(\"It is divisible\")\n",
    "else:\n",
    "    print(\"Not divisible\")"
   ]
  },
  {
   "cell_type": "markdown",
   "id": "335d9e03",
   "metadata": {},
   "source": [
    "### Q8. Print the first 10 natural numbers using for loop."
   ]
  },
  {
   "cell_type": "code",
   "execution_count": 8,
   "id": "36aaeff9",
   "metadata": {},
   "outputs": [
    {
     "name": "stdout",
     "output_type": "stream",
     "text": [
      "1\n",
      "2\n",
      "3\n",
      "4\n",
      "5\n",
      "6\n",
      "7\n",
      "8\n",
      "9\n",
      "10\n"
     ]
    }
   ],
   "source": [
    "for i in range(1,11):\n",
    "    print(i)"
   ]
  },
  {
   "cell_type": "markdown",
   "id": "272a574b",
   "metadata": {},
   "source": [
    "### or"
   ]
  },
  {
   "cell_type": "code",
   "execution_count": 1,
   "id": "d20476ac",
   "metadata": {},
   "outputs": [
    {
     "name": "stdout",
     "output_type": "stream",
     "text": [
      "1\n",
      "2\n",
      "3\n",
      "4\n",
      "5\n",
      "6\n",
      "7\n",
      "8\n",
      "9\n",
      "10\n"
     ]
    }
   ],
   "source": [
    "i=1\n",
    "while(i<11):\n",
    "    print(i)\n",
    "    i+=1"
   ]
  },
  {
   "cell_type": "code",
   "execution_count": null,
   "id": "a735aded",
   "metadata": {},
   "outputs": [],
   "source": []
  }
 ],
 "metadata": {
  "kernelspec": {
   "display_name": "Python 3 (ipykernel)",
   "language": "python",
   "name": "python3"
  },
  "language_info": {
   "codemirror_mode": {
    "name": "ipython",
    "version": 3
   },
   "file_extension": ".py",
   "mimetype": "text/x-python",
   "name": "python",
   "nbconvert_exporter": "python",
   "pygments_lexer": "ipython3",
   "version": "3.10.9"
  }
 },
 "nbformat": 4,
 "nbformat_minor": 5
}
